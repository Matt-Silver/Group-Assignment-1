{
 "cells": [
  {
   "cell_type": "code",
   "execution_count": 7,
   "metadata": {},
   "outputs": [],
   "source": [
    "def astro(Name, Day, Month, Year):\n",
    "    if ((int(Month)==1 and int(Day) >= 20)or(int(Month)==2 and int(Day)<= 17)):\n",
    "        zodiac_sign = (\"\\n Aquarius\")\n",
    "    elif ((int(Month)==2 and int(Day) >= 18)or(int(Month)==3 and int(Day)<= 19)):\n",
    "        zodiac_sign = (\"\\n Pisces\")\n",
    "    elif ((int(Month)==3 and int(Day) >= 20)or(int(Month)==4 and int(Day)<= 19)):\n",
    "        zodiac_sign = (\"\\n Aries\")\n",
    "    elif ((int(Month)==4 and int(Day) >= 20)or(int(Month)==5 and int(Day)<= 20)):\n",
    "        zodiac_sign = (\"\\n Taurus\")\n",
    "    elif ((int(Month)==5 and int(Day) >= 21)or(int(Month)==6 and int(Day)<= 20)):\n",
    "        zodiac_sign = (\"\\n Gemini\")\n",
    "    elif ((int(Month)==6 and int(Day) >= 21)or(int(Month)==7 and int(Day)<= 22)):\n",
    "        zodiac_sign = (\"\\n Cancer\")\n",
    "    elif ((int(Month)==7 and int(Day) >= 23)or(int(Month)==8 and int(Day)<= 22)): \n",
    "        zodiac_sign = (\"\\n Leo\")\n",
    "    elif ((int(Month)==8 and int(Day) >= 23)or(int(Month)==9 and int(Day)<= 22)): \n",
    "        zodiac_sign = (\"\\n Virgo\")\n",
    "    elif ((int(Month)==9 and int(Day) >= 23)or(int(Month)==10 and int(Day)<= 22)):\n",
    "        zodiac_sign = (\"\\n Libra\")\n",
    "    elif ((int(Month)==10 and int(Day) >= 23)or(int(Month)==11 and int(Day)<= 21)): \n",
    "        zodiac_sign = (\"\\n Scorpio\")\n",
    "    elif ((int(Month)==11 and int(Day) >= 22)or(int(Month)==12 and int(Day)<= 21)):\n",
    "        zodiac_sign = (\"\\n Sagittarius\")\n",
    "    elif ((int(Month)==12 and int(Day) >= 22)or(int(Month)==1 and int(Day)<= 19)):\n",
    "        zodiac_sign = (\"\\n Capricorn\")\n",
    "\n",
    "    print(zodiac_sign)"
   ]
  },
  {
   "cell_type": "code",
   "execution_count": null,
   "metadata": {},
   "outputs": [],
   "source": []
  }
 ],
 "metadata": {
  "kernelspec": {
   "display_name": "Python 3",
   "language": "python",
   "name": "python3"
  },
  "language_info": {
   "codemirror_mode": {
    "name": "ipython",
    "version": 3
   },
   "file_extension": ".py",
   "mimetype": "text/x-python",
   "name": "python",
   "nbconvert_exporter": "python",
   "pygments_lexer": "ipython3",
   "version": "3.6.7"
  }
 },
 "nbformat": 4,
 "nbformat_minor": 4
}
